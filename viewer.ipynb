{
 "cells": [
  {
   "cell_type": "code",
   "execution_count": null,
   "metadata": {},
   "outputs": [],
   "source": [
    "import pandas as pd\n",
    "from game.poker_oracle import PokerOracle\n",
    "import utils.config as config\n",
    "import numpy as np\n",
    "from itertools import combinations"
   ]
  },
  {
   "cell_type": "code",
   "execution_count": null,
   "metadata": {},
   "outputs": [],
   "source": [
    "oracle = PokerOracle()"
   ]
  },
  {
   "cell_type": "code",
   "execution_count": null,
   "metadata": {},
   "outputs": [],
   "source": [
    "pub_cards = (\"9♣\", \"9♦\", \"T♣\")"
   ]
  },
  {
   "cell_type": "code",
   "execution_count": null,
   "metadata": {},
   "outputs": [],
   "source": [
    "matrix = PokerOracle.calculate_utility_matrix(pub_cards)"
   ]
  },
  {
   "cell_type": "code",
   "execution_count": null,
   "metadata": {},
   "outputs": [],
   "source": [
    "matrix[0, -1]"
   ]
  },
  {
   "cell_type": "code",
   "execution_count": null,
   "metadata": {},
   "outputs": [],
   "source": [
    "matrix.tofile(\"matrix.csv\", sep=\",\")"
   ]
  },
  {
   "cell_type": "code",
   "execution_count": null,
   "metadata": {},
   "outputs": [],
   "source": [
    "matrix_width, matrix_height = matrix.shape\n",
    "\n",
    "for i in range(matrix_width):\n",
    "    for j in range(matrix_height):\n",
    "        if not matrix[i, j] == -matrix[j, i]:\n",
    "            print(f\"{matrix[i, j]} - {matrix[j, i]}\")"
   ]
  },
  {
   "cell_type": "code",
   "execution_count": null,
   "metadata": {},
   "outputs": [],
   "source": [
    "print(np.all(matrix == -matrix.T), np.sum(matrix) == 0)"
   ]
  },
  {
   "cell_type": "code",
   "execution_count": null,
   "metadata": {},
   "outputs": [],
   "source": [
    "matrix.shape"
   ]
  },
  {
   "cell_type": "code",
   "execution_count": null,
   "metadata": {},
   "outputs": [],
   "source": [
    "l = matrix.tofile(\"matrix.csv\", sep=\",\", format=\"%10.5f\")"
   ]
  },
  {
   "cell_type": "code",
   "execution_count": null,
   "metadata": {},
   "outputs": [],
   "source": [
    "PokerOracle.quantify_hand([\"9♣\", \"T♥\"], [\"K♣\", \"A♦\", \"A♣\"], oracle)"
   ]
  },
  {
   "cell_type": "code",
   "execution_count": null,
   "metadata": {},
   "outputs": [],
   "source": [
    "deck = PokerOracle.generate_deck()\n",
    "deck"
   ]
  },
  {
   "cell_type": "code",
   "execution_count": null,
   "metadata": {},
   "outputs": [],
   "source": [
    "all_hole_cards = list(combinations(deck, 2)) == list(PokerOracle.all_hole_combinations())\n",
    "all_hole_cards"
   ]
  },
  {
   "cell_type": "code",
   "execution_count": null,
   "metadata": {},
   "outputs": [],
   "source": [
    "all_hole_cards = list(PokerOracle.all_hole_combinations())"
   ]
  },
  {
   "cell_type": "code",
   "execution_count": null,
   "metadata": {},
   "outputs": [],
   "source": [
    "range = np.ones(len(all_hole_cards))\n",
    "print(len(range), range)"
   ]
  },
  {
   "cell_type": "code",
   "execution_count": null,
   "metadata": {},
   "outputs": [],
   "source": [
    "def cards_to_range_index(card1, card2):\n",
    "    return all_hole_cards.index((card1, card2))\n",
    "\n",
    "def range_index_to_cards(index):\n",
    "    return all_hole_cards[index]\n",
    "\n",
    "def cards_to_range_index_both_ways(card1, card2):\n",
    "    return cards_to_range_index(card1, card2), cards_to_range_index(card2, card1)"
   ]
  },
  {
   "cell_type": "code",
   "execution_count": null,
   "metadata": {},
   "outputs": [],
   "source": [
    "card1 = '9♠'\n",
    "for card2 in deck:\n",
    "    if card1 == card2:\n",
    "        continue \n",
    "    index  = cards_to_range_index(card1, card2)\n",
    "    print(f'{card1} {card2} {index} -- {range_index_to_cards(index)}')"
   ]
  },
  {
   "cell_type": "code",
   "execution_count": null,
   "metadata": {},
   "outputs": [],
   "source": []
  },
  {
   "cell_type": "code",
   "execution_count": null,
   "metadata": {},
   "outputs": [],
   "source": [
    "all_hole_cards"
   ]
  },
  {
   "cell_type": "code",
   "execution_count": null,
   "metadata": {},
   "outputs": [],
   "source": []
  },
  {
   "cell_type": "markdown",
   "metadata": {},
   "source": [
    "# Data gen"
   ]
  },
  {
   "cell_type": "code",
   "execution_count": null,
   "metadata": {},
   "outputs": [],
   "source": [
    "import data.datagen as datagen\n",
    "from state.state_manager import PokerGameStage\n",
    "import multiprocessing as mp"
   ]
  },
  {
   "cell_type": "code",
   "execution_count": null,
   "metadata": {},
   "outputs": [],
   "source": [
    "def generate_data(start, end, stage, n_pub):\n",
    "    local_data = []\n",
    "    for i in range(start, end):\n",
    "        if i % 10 == 0:\n",
    "            print(i)\n",
    "        local_data.append(datagen.get_random_example((stage, n_pub)))\n",
    "    return local_data"
   ]
  },
  {
   "cell_type": "code",
   "execution_count": null,
   "metadata": {},
   "outputs": [],
   "source": [
    "def get_data_mp(stage, n_pub):\n",
    "    num_processes = 8\n",
    "    total_items = 1000\n",
    "\n",
    "    pool = mp.Pool(processes=num_processes)\n",
    "\n",
    "    # Calculate the chunk size for each process\n",
    "    chunk_size = total_items // num_processes\n",
    "    ranges = [(i * chunk_size, (i + 1) * chunk_size) for i in range(num_processes)]\n",
    "    ranges[-1] = (ranges[-1][0], total_items)  # Ensure the last range covers the remainder\n",
    "\n",
    "    # Map the generate_data function to the data ranges\n",
    "    results = [pool.apply_async(generate_data, args=(r[0], r[1], stage, n_pub)) for r in ranges]\n",
    "\n",
    "    # Close the pool and wait for the work to finish\n",
    "    pool.close()\n",
    "    pool.join()\n",
    "\n",
    "    # Collect all results from the processes\n",
    "    data = []\n",
    "    for result in results:\n",
    "        data.extend(result.get())\n",
    "\n",
    "    return data"
   ]
  },
  {
   "cell_type": "code",
   "execution_count": null,
   "metadata": {},
   "outputs": [],
   "source": [
    "n_pub = 4\n",
    "stage = PokerGameStage.TURN\n",
    "new_data = get_data_mp(stage, n_pub)"
   ]
  },
  {
   "cell_type": "code",
   "execution_count": null,
   "metadata": {},
   "outputs": [],
   "source": [
    "data = []\n",
    "for i in range(1000):\n",
    "    if i % 10 == 0:\n",
    "        print(i)\n",
    "    data.append(datagen.get_random_example((stage, n_pub)))"
   ]
  },
  {
   "cell_type": "code",
   "execution_count": null,
   "metadata": {},
   "outputs": [],
   "source": [
    "import pickle as pkl\n",
    "import torch\n",
    "test_frac = 0.2\n",
    "size = 1000\n",
    "test_num = int(size * test_frac)"
   ]
  },
  {
   "cell_type": "code",
   "execution_count": null,
   "metadata": {},
   "outputs": [],
   "source": [
    "pkl.dump(data, open(\"data.pkl\", \"wb\"))"
   ]
  },
  {
   "cell_type": "code",
   "execution_count": null,
   "metadata": {},
   "outputs": [],
   "source": [
    "dataset = torch.cat(data)"
   ]
  },
  {
   "cell_type": "code",
   "execution_count": null,
   "metadata": {},
   "outputs": [],
   "source": [
    "train_dataset, test_dataset = dataset.split([size - test_num, test_num])"
   ]
  },
  {
   "cell_type": "code",
   "execution_count": null,
   "metadata": {},
   "outputs": [],
   "source": [
    "print(train_dataset.shape, test_dataset.shape)"
   ]
  },
  {
   "cell_type": "code",
   "execution_count": null,
   "metadata": {},
   "outputs": [],
   "source": [
    "torch.save(train_dataset, \"train_dataset.pt\")\n",
    "torch.save(test_dataset, \"test_dataset.pt\")"
   ]
  },
  {
   "cell_type": "markdown",
   "metadata": {},
   "source": [
    "# Model training"
   ]
  },
  {
   "cell_type": "code",
   "execution_count": null,
   "metadata": {},
   "outputs": [],
   "source": [
    "import torch\n",
    "d = torch.load(\"data/RIVER/train1.pt\")\n",
    "import pandas as pd\n",
    "import numpy as np\n",
    "from game.poker_oracle import PokerOracle"
   ]
  },
  {
   "cell_type": "code",
   "execution_count": null,
   "metadata": {},
   "outputs": [],
   "source": [
    "pot_index = 276*2+5"
   ]
  },
  {
   "cell_type": "code",
   "execution_count": null,
   "metadata": {},
   "outputs": [],
   "source": [
    "invecs, cards, pot, p1, p2, _ = d.split([\n",
    "    276 * 2,\n",
    "    5,\n",
    "    1,\n",
    "    276,\n",
    "    276,\n",
    "    1], dim=1)"
   ]
  },
  {
   "cell_type": "code",
   "execution_count": null,
   "metadata": {},
   "outputs": [],
   "source": [
    "torch.mean(d[:, pot_index])"
   ]
  },
  {
   "cell_type": "code",
   "execution_count": null,
   "metadata": {},
   "outputs": [],
   "source": [
    "def public_cards_to_index(cards_col):\n",
    "    \n",
    "    idx = []\n",
    "    deck = PokerOracle.generate_deck()\n",
    "    for cards in cards_col:\n",
    "        cards = cards.replace('clubs', '♣')\n",
    "        cards = cards.replace('hearts', '♥')\n",
    "        cards = cards.replace('diamonds', '♦')\n",
    "        cards = cards.replace('spades', '♠')\n",
    "        cards = cards.replace('10', 'T')\n",
    "        idx.append(deck.index(cards))\n",
    "\n",
    "    return idx"
   ]
  },
  {
   "cell_type": "code",
   "execution_count": null,
   "metadata": {},
   "outputs": [],
   "source": [
    "public_cards_to_index(df['public_cards'][0])"
   ]
  },
  {
   "cell_type": "code",
   "execution_count": null,
   "metadata": {},
   "outputs": [],
   "source": [
    "df['public_cards'] = df['public_cards'].apply(public_cards_to_index)"
   ]
  },
  {
   "cell_type": "code",
   "execution_count": null,
   "metadata": {},
   "outputs": [],
   "source": [
    "df"
   ]
  },
  {
   "cell_type": "code",
   "execution_count": null,
   "metadata": {},
   "outputs": [],
   "source": [
    "df = pd.read_csv(\"turn.csv\")\n",
    "def parse_vector(vector_str):\n",
    "    return np.array(list(map(float, vector_str.split(','))))\n",
    "\n",
    "def parse_array(s):\n",
    "    return np.array([float(item) for item in s.strip('[]').split(',')])\n",
    "\n",
    "def parse_cards(s):\n",
    "    return s.strip('[]').replace(\"'\", \"\").split(', ')\n",
    "\n",
    "def public_cards_to_index(cards_col):\n",
    "    idx = []\n",
    "    deck = PokerOracle.generate_deck()\n",
    "    for cards in cards_col:\n",
    "        cards = cards.replace('clubs', '♣')\n",
    "        cards = cards.replace('hearts', '♥')\n",
    "        cards = cards.replace('diamonds', '♦')\n",
    "        cards = cards.replace('spades', '♠')\n",
    "        cards = cards.replace('10', 'T')\n",
    "        idx.append(deck.index(cards))\n",
    "\n",
    "    return idx\n",
    "\n",
    "\n",
    "df['r1'] = df['r1'].apply(parse_array)\n",
    "df['r2'] = df['r2'].apply(parse_array)\n",
    "df['v1'] = df['v1'].apply(parse_array)\n",
    "df['v2'] = df['v2'].apply(parse_array)\n",
    "df['public_cards'] = df['public_cards'].apply(parse_cards)\n",
    "df['public_cards'] = df['public_cards'].apply(public_cards_to_index)"
   ]
  },
  {
   "cell_type": "code",
   "execution_count": null,
   "metadata": {},
   "outputs": [],
   "source": [
    "print(df['r1'].tolist()[0])  # Print first element to check its structure\n"
   ]
  },
  {
   "cell_type": "code",
   "execution_count": null,
   "metadata": {},
   "outputs": [],
   "source": [
    "def df_to_tensor(df):\n",
    "    tensors = []\n",
    "    \n",
    "    # Add `r1` and `r2` first\n",
    "    tensors.append(torch.tensor(df['r1'].tolist(), dtype=torch.float))\n",
    "    tensors.append(torch.tensor(df['r2'].tolist(), dtype=torch.float))\n",
    "\n",
    "    # Add `public_cards` indices as tensors (convert to long if using as indices)\n",
    "    tensors.append(torch.tensor(df['public_cards'].tolist(), dtype=torch.long))\n",
    "\n",
    "    # Add `pot`\n",
    "    tensors.append(torch.tensor(df['pot'].values, dtype=torch.float).view(-1, 1))\n",
    "\n",
    "    # Add `v1` and `v2`\n",
    "    tensors.append(torch.tensor(df['v1'].tolist(), dtype=torch.float))\n",
    "    tensors.append(torch.tensor(df['v2'].tolist(), dtype=torch.float))\n",
    "\n",
    "    # Concatenate all tensors along columns\n",
    "    full_tensor = torch.cat(tensors, dim=1)\n",
    "    return full_tensor\n",
    "\n",
    "# Convert the DataFrame to a tensor with the correct order\n",
    "data_tensor = df_to_tensor(df)\n"
   ]
  },
  {
   "cell_type": "code",
   "execution_count": null,
   "metadata": {},
   "outputs": [],
   "source": [
    "data_tensor.shape"
   ]
  },
  {
   "cell_type": "code",
   "execution_count": null,
   "metadata": {},
   "outputs": [],
   "source": [
    "torch.save(data_tensor, \"data_tensor.pt\")"
   ]
  },
  {
   "cell_type": "code",
   "execution_count": null,
   "metadata": {},
   "outputs": [],
   "source": [
    "d.shape"
   ]
  },
  {
   "cell_type": "code",
   "execution_count": null,
   "metadata": {},
   "outputs": [],
   "source": [
    "# get sum and std dev of pot\n",
    "pot_sum = torch.mean(pot)\n",
    "pot_std = torch.std(pot)\n",
    "print(pot_sum, pot_std)"
   ]
  },
  {
   "cell_type": "code",
   "execution_count": null,
   "metadata": {},
   "outputs": [],
   "source": [
    "from nn.nn_training import NNTrainer\n",
    "from state.state_manager import PokerGameStage\n",
    "stage = PokerGameStage.FLOP"
   ]
  },
  {
   "cell_type": "code",
   "execution_count": null,
   "metadata": {},
   "outputs": [],
   "source": [
    "trainer = NNTrainer()"
   ]
  },
  {
   "cell_type": "code",
   "execution_count": null,
   "metadata": {},
   "outputs": [],
   "source": [
    "trainer.train_network(stage, 150, 5000)"
   ]
  },
  {
   "cell_type": "code",
   "execution_count": null,
   "metadata": {},
   "outputs": [],
   "source": [
    "import matplotlib.pyplot as plt\n",
    "import pandas as pd"
   ]
  },
  {
   "cell_type": "code",
   "execution_count": null,
   "metadata": {},
   "outputs": [],
   "source": [
    "df = pd.read_csv(\"lightning_logs/FLOP/lightning_logs/version_0/metrics.csv\")\n",
    "df_train_loss = df[df[\"train_loss\"].notnull()]\n",
    "df_val_loss = df[df[\"val_loss\"].notnull()]\n",
    "df_accum_train_loss = df_train_loss.groupby('epoch').mean()\n",
    "df_accum_val_loss = df_val_loss.groupby('epoch').mean()"
   ]
  },
  {
   "cell_type": "code",
   "execution_count": null,
   "metadata": {},
   "outputs": [],
   "source": [
    "# Val loss\n",
    "plt.plot(df_accum_val_loss['val_loss'])\n",
    "plt.title('model loss')\n",
    "plt.ylabel('loss')\n",
    "plt.xlabel('epoch')\n",
    "plt.legend(['val'], loc='upper left')\n",
    "plt.show()"
   ]
  },
  {
   "cell_type": "code",
   "execution_count": null,
   "metadata": {},
   "outputs": [],
   "source": [
    "# Val loss\n",
    "plt.plot(df_accum_train_loss['train_loss'])\n",
    "plt.title('model loss')\n",
    "plt.ylabel('loss')\n",
    "plt.xlabel('epoch')\n",
    "plt.legend(['train'], loc='upper left')\n",
    "plt.show()"
   ]
  },
  {
   "cell_type": "code",
   "execution_count": null,
   "metadata": {},
   "outputs": [],
   "source": []
  }
 ],
 "metadata": {
  "kernelspec": {
   "display_name": "recsys",
   "language": "python",
   "name": "python3"
  },
  "language_info": {
   "codemirror_mode": {
    "name": "ipython",
    "version": 3
   },
   "file_extension": ".py",
   "mimetype": "text/x-python",
   "name": "python",
   "nbconvert_exporter": "python",
   "pygments_lexer": "ipython3",
   "version": "3.11.8"
  }
 },
 "nbformat": 4,
 "nbformat_minor": 2
}
